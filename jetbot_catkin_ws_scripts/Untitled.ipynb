{
 "cells": [
  {
   "cell_type": "code",
   "execution_count": null,
   "id": "better-shark",
   "metadata": {},
   "outputs": [],
   "source": [
    "import python"
   ]
  },
  {
   "cell_type": "code",
   "execution_count": null,
   "id": "sorted-estimate",
   "metadata": {},
   "outputs": [],
   "source": [
    "python.version()"
   ]
  },
  {
   "cell_type": "code",
   "execution_count": 5,
   "id": "adapted-republican",
   "metadata": {},
   "outputs": [
    {
     "data": {
      "text/plain": [
       "True"
      ]
     },
     "execution_count": 5,
     "metadata": {},
     "output_type": "execute_result"
    }
   ],
   "source": [
    "from jetcam.csi_camera import CSICamera\n",
    "import cv2\n",
    "\n",
    "# Initialize the CSI camera\n",
    "camera = CSICamera(width=224, height=224, capture_width=1080, capture_height=720, capture_fps=30)\n",
    "\n",
    "# Read an image from the camera\n",
    "image = camera.read()\n",
    "\n",
    "# Save the image to a file named 'output.jpg'\n",
    "cv2.imwrite('output.jpg', image)\n"
   ]
  },
  {
   "cell_type": "code",
   "execution_count": 50,
   "id": "corrected-configuration",
   "metadata": {},
   "outputs": [
    {
     "data": {
      "text/plain": [
       "array([[[203, 108, 135],\n",
       "        [204, 166, 166],\n",
       "        [196, 181, 192],\n",
       "        ...,\n",
       "        [255, 252, 255],\n",
       "        [255, 250, 255],\n",
       "        [255, 247, 255]],\n",
       "\n",
       "       [[190, 173, 197],\n",
       "        [185, 181, 199],\n",
       "        [193, 196, 206],\n",
       "        ...,\n",
       "        [255, 251, 255],\n",
       "        [255, 250, 255],\n",
       "        [255, 248, 255]],\n",
       "\n",
       "       [[183, 175, 191],\n",
       "        [181, 180, 196],\n",
       "        [185, 192, 206],\n",
       "        ...,\n",
       "        [255, 251, 255],\n",
       "        [255, 249, 255],\n",
       "        [255, 247, 255]],\n",
       "\n",
       "       ...,\n",
       "\n",
       "       [[109, 111, 117],\n",
       "        [ 76,  75,  70],\n",
       "        [ 92,  84,  86],\n",
       "        ...,\n",
       "        [119, 100, 116],\n",
       "        [112,  97,  95],\n",
       "        [145, 138, 146]],\n",
       "\n",
       "       [[ 92,  90,  88],\n",
       "        [ 83,  69,  74],\n",
       "        [ 91,  84,  95],\n",
       "        ...,\n",
       "        [125, 111, 118],\n",
       "        [121, 108, 115],\n",
       "        [137, 128, 145]],\n",
       "\n",
       "       [[ 96,  86,  93],\n",
       "        [101,  98, 112],\n",
       "        [ 93,  91, 103],\n",
       "        ...,\n",
       "        [101,  77,  83],\n",
       "        [160, 152, 173],\n",
       "        [116, 106, 110]]], dtype=uint8)"
      ]
     },
     "execution_count": 50,
     "metadata": {},
     "output_type": "execute_result"
    }
   ],
   "source": [
    "image = camera.read()\n",
    "image"
   ]
  },
  {
   "cell_type": "code",
   "execution_count": 8,
   "id": "editorial-scale",
   "metadata": {},
   "outputs": [],
   "source": [
    "# Read an image from the camera\n",
    "image = camera.read()\n",
    "\n",
    "# Save the image to a file named 'output.jpg'\n",
    "_ = cv2.imwrite('output.jpg', image)"
   ]
  },
  {
   "cell_type": "code",
   "execution_count": null,
   "id": "alive-campaign",
   "metadata": {},
   "outputs": [],
   "source": []
  }
 ],
 "metadata": {
  "kernelspec": {
   "display_name": "Python 3",
   "language": "python",
   "name": "python3"
  },
  "language_info": {
   "codemirror_mode": {
    "name": "ipython",
    "version": 3
   },
   "file_extension": ".py",
   "mimetype": "text/x-python",
   "name": "python",
   "nbconvert_exporter": "python",
   "pygments_lexer": "ipython3",
   "version": "3.6.9"
  }
 },
 "nbformat": 4,
 "nbformat_minor": 5
}
